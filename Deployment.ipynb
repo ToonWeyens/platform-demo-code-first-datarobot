{
 "cells": [
  {
   "cell_type": "markdown",
   "id": "05e7d2fc",
   "metadata": {},
   "source": [
    "# Deployment"
   ]
  },
  {
   "cell_type": "markdown",
   "id": "299f297d",
   "metadata": {},
   "source": [
    "## Set up and configure connection to SDK"
   ]
  },
  {
   "cell_type": "code",
   "execution_count": 36,
   "id": "3ad7fa38",
   "metadata": {
    "pycharm": {
     "is_executing": true
    }
   },
   "outputs": [],
   "source": [
    "import datarobot as dr #needs 2.25 or later\n",
    "import pickle"
   ]
  },
  {
   "cell_type": "code",
   "execution_count": 37,
   "id": "f0923300",
   "metadata": {},
   "outputs": [
    {
     "data": {
      "text/plain": [
       "<datarobot.rest.RESTClientObject at 0x7fac81a27190>"
      ]
     },
     "execution_count": 37,
     "metadata": {},
     "output_type": "execute_result"
    }
   ],
   "source": [
    "dr.Client(config_path = '/Volumes/GoogleDrive/My Drive/Configurations/drconfig.yaml')"
   ]
  },
  {
   "cell_type": "markdown",
   "id": "61f61c50",
   "metadata": {},
   "source": [
    "## Load model"
   ]
  },
  {
   "cell_type": "code",
   "execution_count": 38,
   "id": "0c5bb830",
   "metadata": {},
   "outputs": [],
   "source": [
    "deploymentModelPickle = open('deploymentModel.pickle','rb')\n",
    "deploymentModel = pickle.load(deploymentModelPickle)\n",
    "deploymentModelPickle.close()"
   ]
  },
  {
   "cell_type": "code",
   "execution_count": 39,
   "id": "90b8f2cf",
   "metadata": {},
   "outputs": [],
   "source": [
    "project = deploymentModel['project']\n",
    "model = deploymentModel['model']"
   ]
  },
  {
   "cell_type": "markdown",
   "id": "159022c5",
   "metadata": {},
   "source": [
    "## Create deployment"
   ]
  },
  {
   "cell_type": "code",
   "execution_count": 40,
   "id": "0c14f570",
   "metadata": {},
   "outputs": [],
   "source": [
    "deploymentName = project.project_name"
   ]
  },
  {
   "cell_type": "code",
   "execution_count": 41,
   "id": "ef667e9b",
   "metadata": {},
   "outputs": [],
   "source": [
    "prediction_server = dr.PredictionServer.list()[0]"
   ]
  },
  {
   "cell_type": "code",
   "execution_count": 44,
   "id": "737d9138",
   "metadata": {},
   "outputs": [
    {
     "data": {
      "text/plain": [
       "Deployment(Fault prediction from sensor data Orsted AUTO)"
      ]
     },
     "execution_count": 44,
     "metadata": {},
     "output_type": "execute_result"
    }
   ],
   "source": [
    "deployment = dr.Deployment.create_from_learning_model(\n",
    "    model.id, label=deploymentName, description='Orsted',\n",
    "    default_prediction_server_id=prediction_server.id)\n",
    "deployment"
   ]
  },
  {
   "cell_type": "markdown",
   "id": "039212e4",
   "metadata": {},
   "source": [
    "## Show all deployments"
   ]
  },
  {
   "cell_type": "code",
   "execution_count": 45,
   "id": "295e2f5f",
   "metadata": {
    "scrolled": true
   },
   "outputs": [
    {
     "data": {
      "text/plain": [
       "[Deployment(Demo Probability of Default (Risk Management)),\n",
       " Deployment(Risk Management - Custom Models),\n",
       " Deployment(MMM Twitter messages polarity monitoring in Boston),\n",
       " Deployment(Medical Shipment Delivery),\n",
       " Deployment(Server Response Time Prediction [Challengers][Custom Model Champion]),\n",
       " Deployment(MBTA Parking Utilization Forecasting [Deprecated]),\n",
       " Deployment([RAM-MODEL] Model Fit RAM Predictions),\n",
       " Deployment([MultiSeries] Bluebikes Availability (with challengers)),\n",
       " Deployment(Lending Club Deployed Model),\n",
       " Deployment(GCP MLOps Agent [Remote Model]),\n",
       " Deployment(Loan Defaults with Challengers [Segments]),\n",
       " Deployment(Housing Price Predictor (with Challengers)),\n",
       " Deployment(is_bad Predictions),\n",
       " Deployment(readmitted Predictions for App builder lab and Continuous AI Lab),\n",
       " Deployment(Wine Quality),\n",
       " Deployment(salary Predictions),\n",
       " Deployment(target Predictions),\n",
       " Deployment(Lending Club API with latest transactions),\n",
       " Deployment(Fault prediction from sensor data Orsted AUTO),\n",
       " Deployment(Fault prediction from sensor data Orsted AUTO)]"
      ]
     },
     "execution_count": 45,
     "metadata": {},
     "output_type": "execute_result"
    }
   ],
   "source": [
    "deployments = dr.Deployment.list()\n",
    "deployments"
   ]
  },
  {
   "cell_type": "markdown",
   "id": "99f5f7f9",
   "metadata": {},
   "source": [
    "Let's filter for our own deployment"
   ]
  },
  {
   "cell_type": "code",
   "execution_count": 46,
   "id": "e95291a1",
   "metadata": {},
   "outputs": [
    {
     "data": {
      "text/plain": [
       "[Deployment(is_bad Predictions),\n",
       " Deployment(readmitted Predictions for App builder lab and Continuous AI Lab),\n",
       " Deployment(Wine Quality),\n",
       " Deployment(salary Predictions),\n",
       " Deployment(target Predictions),\n",
       " Deployment(Lending Club API with latest transactions),\n",
       " Deployment(Fault prediction from sensor data Orsted AUTO),\n",
       " Deployment(Fault prediction from sensor data Orsted AUTO)]"
      ]
     },
     "execution_count": 46,
     "metadata": {},
     "output_type": "execute_result"
    }
   ],
   "source": [
    "filters = dr.models.deployment.DeploymentListFilters(\n",
    "    role='OWNER',\n",
    "    #accuracy_health=dr.enums.DEPLOYMENT_ACCURACY_HEALTH_STATUS.FAILING\n",
    ")\n",
    "deployments = dr.Deployment.list(filters=filters)\n",
    "deployments\n"
   ]
  },
  {
   "cell_type": "markdown",
   "id": "93d7bcba",
   "metadata": {},
   "source": [
    "### Extra configurations"
   ]
  },
  {
   "cell_type": "markdown",
   "id": "d801cacc",
   "metadata": {},
   "source": [
    "Check whether drift and accuracy tracking is turned on"
   ]
  },
  {
   "cell_type": "code",
   "execution_count": 47,
   "id": "266c2a51",
   "metadata": {},
   "outputs": [
    {
     "data": {
      "text/plain": [
       "{'target_drift': {'enabled': False}, 'feature_drift': {'enabled': False}}"
      ]
     },
     "execution_count": 47,
     "metadata": {},
     "output_type": "execute_result"
    }
   ],
   "source": [
    "settings = deployment.get_drift_tracking_settings()\n",
    "settings"
   ]
  },
  {
   "cell_type": "code",
   "execution_count": 48,
   "id": "6b650039",
   "metadata": {},
   "outputs": [],
   "source": [
    "deployment = dr.Deployment.get(deployment_id=deployment.id)\n",
    "deployment.update_drift_tracking_settings(target_drift_enabled=True, feature_drift_enabled=True)"
   ]
  },
  {
   "cell_type": "markdown",
   "id": "a1a214d7",
   "metadata": {},
   "source": [
    "Now tracking is turned on"
   ]
  },
  {
   "cell_type": "markdown",
   "id": "631a8bcf",
   "metadata": {},
   "source": [
    "## Predict"
   ]
  },
  {
   "cell_type": "markdown",
   "id": "b815c4d7",
   "metadata": {},
   "source": [
    "This can be done through\n",
    "- low-latency RESTful API\n",
    "- batch prediction API"
   ]
  },
  {
   "cell_type": "markdown",
   "id": "038132b7",
   "metadata": {},
   "source": [
    "From within the DataRobot CLI, you can also perform batch predictions directly with `model.request_predictions`:"
   ]
  },
  {
   "cell_type": "code",
   "execution_count": 29,
   "id": "f0c66a65",
   "metadata": {},
   "outputs": [],
   "source": [
    "dataset = project.upload_dataset(sourcedata='Data/' +\"test.csv\")"
   ]
  },
  {
   "cell_type": "code",
   "execution_count": 51,
   "id": "09910158",
   "metadata": {},
   "outputs": [
    {
     "name": "stderr",
     "output_type": "stream",
     "text": [
      "/Library/Frameworks/Python.framework/Versions/3.9/lib/python3.9/site-packages/datarobot/utils/__init__.py:339: FutureWarning: In a future version of pandas all arguments of DataFrame.drop except for the argument 'labels' will be keyword-only\n",
      "  return frame.drop(\"prediction_values\", 1)\n"
     ]
    }
   ],
   "source": [
    "pred_job = model.request_predictions(dataset.id)\n",
    "preds = pred_job.get_result_when_complete()"
   ]
  },
  {
   "cell_type": "code",
   "execution_count": 52,
   "id": "502540f8",
   "metadata": {},
   "outputs": [
    {
     "data": {
      "text/html": [
       "<div>\n",
       "<style scoped>\n",
       "    .dataframe tbody tr th:only-of-type {\n",
       "        vertical-align: middle;\n",
       "    }\n",
       "\n",
       "    .dataframe tbody tr th {\n",
       "        vertical-align: top;\n",
       "    }\n",
       "\n",
       "    .dataframe thead th {\n",
       "        text-align: right;\n",
       "    }\n",
       "</style>\n",
       "<table border=\"1\" class=\"dataframe\">\n",
       "  <thead>\n",
       "    <tr style=\"text-align: right;\">\n",
       "      <th></th>\n",
       "      <th>row_id</th>\n",
       "      <th>prediction</th>\n",
       "      <th>positive_probability</th>\n",
       "      <th>prediction_threshold</th>\n",
       "      <th>class_0.0</th>\n",
       "      <th>class_1.0</th>\n",
       "    </tr>\n",
       "  </thead>\n",
       "  <tbody>\n",
       "    <tr>\n",
       "      <th>0</th>\n",
       "      <td>0</td>\n",
       "      <td>1.0</td>\n",
       "      <td>0.970532</td>\n",
       "      <td>0.5</td>\n",
       "      <td>0.029468</td>\n",
       "      <td>0.970532</td>\n",
       "    </tr>\n",
       "    <tr>\n",
       "      <th>1</th>\n",
       "      <td>1</td>\n",
       "      <td>1.0</td>\n",
       "      <td>0.960706</td>\n",
       "      <td>0.5</td>\n",
       "      <td>0.039294</td>\n",
       "      <td>0.960706</td>\n",
       "    </tr>\n",
       "    <tr>\n",
       "      <th>2</th>\n",
       "      <td>2</td>\n",
       "      <td>0.0</td>\n",
       "      <td>0.017368</td>\n",
       "      <td>0.5</td>\n",
       "      <td>0.982632</td>\n",
       "      <td>0.017368</td>\n",
       "    </tr>\n",
       "    <tr>\n",
       "      <th>3</th>\n",
       "      <td>3</td>\n",
       "      <td>0.0</td>\n",
       "      <td>0.001075</td>\n",
       "      <td>0.5</td>\n",
       "      <td>0.998925</td>\n",
       "      <td>0.001075</td>\n",
       "    </tr>\n",
       "    <tr>\n",
       "      <th>4</th>\n",
       "      <td>4</td>\n",
       "      <td>0.0</td>\n",
       "      <td>0.000969</td>\n",
       "      <td>0.5</td>\n",
       "      <td>0.999031</td>\n",
       "      <td>0.000969</td>\n",
       "    </tr>\n",
       "    <tr>\n",
       "      <th>5</th>\n",
       "      <td>5</td>\n",
       "      <td>0.0</td>\n",
       "      <td>0.001822</td>\n",
       "      <td>0.5</td>\n",
       "      <td>0.998178</td>\n",
       "      <td>0.001822</td>\n",
       "    </tr>\n",
       "    <tr>\n",
       "      <th>6</th>\n",
       "      <td>6</td>\n",
       "      <td>1.0</td>\n",
       "      <td>0.997659</td>\n",
       "      <td>0.5</td>\n",
       "      <td>0.002341</td>\n",
       "      <td>0.997659</td>\n",
       "    </tr>\n",
       "    <tr>\n",
       "      <th>7</th>\n",
       "      <td>7</td>\n",
       "      <td>0.0</td>\n",
       "      <td>0.002516</td>\n",
       "      <td>0.5</td>\n",
       "      <td>0.997484</td>\n",
       "      <td>0.002516</td>\n",
       "    </tr>\n",
       "    <tr>\n",
       "      <th>8</th>\n",
       "      <td>8</td>\n",
       "      <td>0.0</td>\n",
       "      <td>0.011136</td>\n",
       "      <td>0.5</td>\n",
       "      <td>0.988864</td>\n",
       "      <td>0.011136</td>\n",
       "    </tr>\n",
       "  </tbody>\n",
       "</table>\n",
       "</div>"
      ],
      "text/plain": [
       "   row_id  prediction  positive_probability  prediction_threshold  class_0.0  \\\n",
       "0       0         1.0              0.970532                   0.5   0.029468   \n",
       "1       1         1.0              0.960706                   0.5   0.039294   \n",
       "2       2         0.0              0.017368                   0.5   0.982632   \n",
       "3       3         0.0              0.001075                   0.5   0.998925   \n",
       "4       4         0.0              0.000969                   0.5   0.999031   \n",
       "5       5         0.0              0.001822                   0.5   0.998178   \n",
       "6       6         1.0              0.997659                   0.5   0.002341   \n",
       "7       7         0.0              0.002516                   0.5   0.997484   \n",
       "8       8         0.0              0.011136                   0.5   0.988864   \n",
       "\n",
       "   class_1.0  \n",
       "0   0.970532  \n",
       "1   0.960706  \n",
       "2   0.017368  \n",
       "3   0.001075  \n",
       "4   0.000969  \n",
       "5   0.001822  \n",
       "6   0.997659  \n",
       "7   0.002516  \n",
       "8   0.011136  "
      ]
     },
     "execution_count": 52,
     "metadata": {},
     "output_type": "execute_result"
    }
   ],
   "source": [
    "preds"
   ]
  },
  {
   "cell_type": "markdown",
   "id": "22095e4a",
   "metadata": {},
   "source": [
    "## Monitoring"
   ]
  },
  {
   "cell_type": "markdown",
   "id": "915927a7",
   "metadata": {},
   "source": [
    "### service stats"
   ]
  },
  {
   "cell_type": "code",
   "execution_count": 53,
   "id": "13b164a6",
   "metadata": {},
   "outputs": [],
   "source": [
    "from datarobot.models import Deployment, ServiceStats\n",
    "\n",
    "deployment_id = deployment.id\n",
    "\n",
    "# call `get` functions on a `Deployment` object\n",
    "deployment = Deployment.get(deployment_id)\n",
    "service_stats = deployment.get_service_stats()\n",
    "\n",
    "# directly fetch without a `Deployment` object\n",
    "service_stats = ServiceStats.get(deployment_id)"
   ]
  },
  {
   "cell_type": "code",
   "execution_count": 54,
   "id": "56871555",
   "metadata": {},
   "outputs": [
    {
     "data": {
      "text/plain": [
       "{'totalPredictions': 0,\n",
       " 'totalRequests': 0,\n",
       " 'slowRequests': 0,\n",
       " 'executionTime': None,\n",
       " 'responseTime': None,\n",
       " 'userErrorRate': 0,\n",
       " 'serverErrorRate': 0,\n",
       " 'numConsumers': 0,\n",
       " 'cacheHitRatio': 0,\n",
       " 'medianLoad': 0,\n",
       " 'peakLoad': 0}"
      ]
     },
     "execution_count": 54,
     "metadata": {},
     "output_type": "execute_result"
    }
   ],
   "source": [
    "service_stats.metrics"
   ]
  },
  {
   "cell_type": "markdown",
   "id": "695eb91c",
   "metadata": {},
   "source": [
    "### Data drift"
   ]
  },
  {
   "cell_type": "code",
   "execution_count": 55,
   "id": "8da39a3a",
   "metadata": {},
   "outputs": [],
   "source": [
    "from datetime import datetime\n",
    "from datarobot.enums import DATA_DRIFT_METRIC\n",
    "from datarobot.models import Deployment, FeatureDrift"
   ]
  },
  {
   "cell_type": "code",
   "execution_count": 56,
   "id": "b3fb6136",
   "metadata": {},
   "outputs": [],
   "source": [
    "deployment = Deployment.get(deployment_id=deployment.id)\n",
    "target_drift = deployment.get_target_drift(\n",
    "    start_time=datetime(2019, 8, 1, hour=15),\n",
    "    end_time=datetime(2019, 8, 8, hour=15)\n",
    ")\n",
    "target_drift.drift_score"
   ]
  },
  {
   "cell_type": "markdown",
   "id": "8f3db71e",
   "metadata": {},
   "source": [
    "Use `DATA_DRIFT_METRIC.ALL` to retrieve a list of supported metrics"
   ]
  },
  {
   "cell_type": "code",
   "execution_count": 57,
   "id": "d70889e2",
   "metadata": {},
   "outputs": [
    {
     "data": {
      "text/plain": [
       "['psi', 'kl_divergence', 'dissimilarity', 'hellinger', 'js_divergence']"
      ]
     },
     "execution_count": 57,
     "metadata": {},
     "output_type": "execute_result"
    }
   ],
   "source": [
    "DATA_DRIFT_METRIC.ALL"
   ]
  },
  {
   "cell_type": "code",
   "execution_count": 58,
   "id": "a58aec9e",
   "metadata": {},
   "outputs": [
    {
     "data": {
      "text/plain": [
       "'biSecondlyReadings[sensor_q1] (5 minutes median)'"
      ]
     },
     "execution_count": 58,
     "metadata": {},
     "output_type": "execute_result"
    }
   ],
   "source": [
    "feature_drift_data = FeatureDrift.list(\n",
    "    deployment_id=deployment.id,\n",
    "    start_time=datetime(2019, 8, 1, hour=15),\n",
    "    end_time=datetime(2019, 8, 8, hour=15),\n",
    "    metric=DATA_DRIFT_METRIC.PSI\n",
    ")\n",
    "feature_drift = feature_drift_data[0]\n",
    "feature_drift.name"
   ]
  },
  {
   "cell_type": "code",
   "execution_count": 59,
   "id": "d56cd240",
   "metadata": {},
   "outputs": [],
   "source": [
    "feature_drift.drift_score"
   ]
  },
  {
   "cell_type": "markdown",
   "id": "8a1c2af0",
   "metadata": {},
   "source": [
    "### Accuracy"
   ]
  },
  {
   "cell_type": "markdown",
   "id": "0c5a1f62",
   "metadata": {},
   "source": [
    "This is also possible, by providing true actuals, and matching them with `association_ID`"
   ]
  },
  {
   "cell_type": "markdown",
   "id": "dc831b2d",
   "metadata": {},
   "source": [
    "### Challenger / champion"
   ]
  },
  {
   "cell_type": "markdown",
   "id": "96b234a1",
   "metadata": {},
   "source": [
    "Can be enabled and works without any effort from the user side"
   ]
  },
  {
   "cell_type": "markdown",
   "id": "3e324896",
   "metadata": {},
   "source": [
    "## Notes"
   ]
  },
  {
   "cell_type": "markdown",
   "id": "e055b32b",
   "metadata": {},
   "source": [
    "At prediction time only the primary dataset is given as input.\n",
    "\n",
    "Therefore, it is possible to replace the secondary dataset with commands including"
   ]
  },
  {
   "cell_type": "code",
   "execution_count": 68,
   "id": "6b66ccf0",
   "metadata": {},
   "outputs": [
    {
     "data": {
      "text/plain": [
       "{'id': '6195218e5e93cfbce7635929',\n",
       " 'project_id': '61951f09863a78bbdd6a4161',\n",
       " 'config': [{'feature_engineering_graph_id': '61951fe55e93cfbce7635920',\n",
       "   'secondary_datasets': [{'identifier': 'biSecondlyReadings',\n",
       "     'catalog_id': '6194d3d8e77712a1426a40f8',\n",
       "     'catalog_version_id': '6194d3d8e77712a1426a40f9',\n",
       "     'snapshot_policy': 'latest'}]}],\n",
       " 'name': 'Default Configuration',\n",
       " 'secondary_datasets': [{'identifier': 'biSecondlyReadings',\n",
       "   'catalog_id': '6194d3d8e77712a1426a40f8',\n",
       "   'catalog_version_id': '6194d3d8e77712a1426a40f9',\n",
       "   'snapshot_policy': 'latest'}],\n",
       " 'creator_full_name': 'Toon Weyens',\n",
       " 'creator_user_id': '6156cfd4c5145f3407af633b',\n",
       " 'created': datetime.datetime(2021, 11, 17, 15, 36, 46, tzinfo=tzutc()),\n",
       " 'featurelist_id': None,\n",
       " 'credential_ids': [],\n",
       " 'is_default': True,\n",
       " 'project_version': None}"
      ]
     },
     "execution_count": 68,
     "metadata": {},
     "output_type": "execute_result"
    }
   ],
   "source": [
    "default_dataset_config = dr.SecondaryDatasetConfigurations.list(project_id=project.id)[0]\n",
    "config = default_dataset_config.to_dict().copy()\n",
    "config"
   ]
  },
  {
   "cell_type": "code",
   "execution_count": 76,
   "id": "f7b7d85f",
   "metadata": {},
   "outputs": [
    {
     "data": {
      "text/plain": [
       "{'identifier': 'biSecondlyReadings',\n",
       " 'catalog_id': '6194d3d8e77712a1426a40f8',\n",
       " 'catalog_version_id': '6194d3d8e77712a1426a40f9',\n",
       " 'snapshot_policy': 'latest'}"
      ]
     },
     "execution_count": 76,
     "metadata": {},
     "output_type": "execute_result"
    }
   ],
   "source": [
    "default_dataset_config.secondary_datasets[0].to_dict()"
   ]
  },
  {
   "cell_type": "markdown",
   "id": "8fd72b8f",
   "metadata": {},
   "source": [
    "After this, take a new shapshot for the replacement dataset, and create a config for this. Then upload it using\n",
    "`dataset = project.upload_dataset(sourcedata, secondary_datasets_config_id=new_secondary_dataset.id)`\n"
   ]
  }
 ],
 "metadata": {
  "kernelspec": {
   "display_name": "Python 3 (ipykernel)",
   "language": "python",
   "name": "python3"
  },
  "language_info": {
   "codemirror_mode": {
    "name": "ipython",
    "version": 3
   },
   "file_extension": ".py",
   "mimetype": "text/x-python",
   "name": "python",
   "nbconvert_exporter": "python",
   "pygments_lexer": "ipython3",
   "version": "3.8.9"
  }
 },
 "nbformat": 4,
 "nbformat_minor": 5
}