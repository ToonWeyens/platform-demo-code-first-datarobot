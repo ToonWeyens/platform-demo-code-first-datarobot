{
 "cells": [
  {
   "cell_type": "markdown",
   "id": "05e7d2fc",
   "metadata": {},
   "source": [
    "# Create project"
   ]
  },
  {
   "cell_type": "markdown",
   "id": "6f1dc76f",
   "metadata": {},
   "source": [
    "## Set up and configure connection to SDK"
   ]
  },
  {
   "cell_type": "code",
   "execution_count": 2,
   "id": "3ad7fa38",
   "metadata": {
    "pycharm": {
     "is_executing": true
    }
   },
   "outputs": [],
   "source": [
    "import datarobot as dr #needs 2.25 or later\n",
    "import pandas as pd\n",
    "from datetime import datetime\n",
    "import pickle"
   ]
  },
  {
   "cell_type": "code",
   "execution_count": 3,
   "id": "cd5a13d7",
   "metadata": {},
   "outputs": [
    {
     "data": {
      "text/plain": [
       "<datarobot.rest.RESTClientObject at 0x11b4b9040>"
      ]
     },
     "execution_count": 3,
     "metadata": {},
     "output_type": "execute_result"
    }
   ],
   "source": [
    "dr.Client(config_path = '/Volumes/GoogleDrive/My Drive/Configurations/drconfig.yaml')"
   ]
  },
  {
   "cell_type": "markdown",
   "id": "c85b3df1",
   "metadata": {},
   "source": [
    "## Load datasets"
   ]
  },
  {
   "cell_type": "code",
   "execution_count": 4,
   "id": "b6e075ce",
   "metadata": {},
   "outputs": [],
   "source": [
    "datasetsPickle = open('datasets.pickle','rb')\n",
    "datasets = pickle.load(datasetsPickle)\n",
    "datasetsPickle.close()"
   ]
  },
  {
   "cell_type": "markdown",
   "id": "5b97e718",
   "metadata": {},
   "source": [
    "## Start with primary dataset"
   ]
  },
  {
   "cell_type": "code",
   "execution_count": 5,
   "id": "3dd8d27e",
   "metadata": {},
   "outputs": [
    {
     "name": "stdout",
     "output_type": "stream",
     "text": [
      "Fault prediction from sensor data Orsted 20211123-171143\n"
     ]
    }
   ],
   "source": [
    "#projName = 'Fault prediction from sensor data Orsted - Project set up'\n",
    "projName = 'Fault prediction from sensor data Orsted ' + datetime.now().strftime(\"%Y%m%d-%H%M%S\")\n",
    "print(projName)"
   ]
  },
  {
   "cell_type": "code",
   "execution_count": 6,
   "id": "11dd8e2b",
   "metadata": {},
   "outputs": [],
   "source": [
    "project = dr.Project.create_from_dataset(datasets['primary'].id, project_name=projName)"
   ]
  },
  {
   "cell_type": "code",
   "execution_count": 7,
   "id": "c498ec31",
   "metadata": {},
   "outputs": [
    {
     "name": "stdout",
     "output_type": "stream",
     "text": [
      "Working with project 619d12c0762d4fac6f2a303e\n"
     ]
    }
   ],
   "source": [
    "print('Working with project ' + project.id)"
   ]
  },
  {
   "cell_type": "markdown",
   "id": "9042da2d",
   "metadata": {},
   "source": [
    "You can also load a previous project:"
   ]
  },
  {
   "cell_type": "code",
   "execution_count": 8,
   "id": "5ef1378f",
   "metadata": {},
   "outputs": [],
   "source": [
    "#project = dr.Project.get(project_id='619d12c0762d4fac6f2a303e')"
   ]
  },
  {
   "cell_type": "markdown",
   "id": "62c7eb97",
   "metadata": {},
   "source": [
    "## Connect the secondary dataset to the project"
   ]
  },
  {
   "cell_type": "code",
   "execution_count": 9,
   "id": "cd157d6b",
   "metadata": {},
   "outputs": [],
   "source": [
    "secondary_dataset_identifier = 'biSecondlyReadings'"
   ]
  },
  {
   "cell_type": "code",
   "execution_count": 10,
   "id": "c6fdbb19",
   "metadata": {},
   "outputs": [],
   "source": [
    "secondary_dataset_definition = dr.DatasetDefinition(\n",
    "    identifier=secondary_dataset_identifier,\n",
    "    catalog_id=datasets['secondary'].id,\n",
    "    catalog_version_id=datasets['secondary'].version_id,\n",
    "    primary_temporal_key='timestamp',\n",
    "    snapshot_policy='latest'\n",
    ")"
   ]
  },
  {
   "cell_type": "code",
   "execution_count": 11,
   "id": "1811af2d",
   "metadata": {},
   "outputs": [],
   "source": [
    "datasets_relationship = dr.Relationship(\n",
    "    dataset2_identifier=secondary_dataset_identifier,\n",
    "    dataset1_keys=['product_id'],\n",
    "    dataset2_keys=['product_id'],\n",
    "    feature_derivation_window_start=-3,\n",
    "    feature_derivation_window_end=0,\n",
    "    feature_derivation_window_time_unit='HOUR',\n",
    "    prediction_point_rounding=1,\n",
    "    prediction_point_rounding_time_unit='SECOND'\n",
    ")"
   ]
  },
  {
   "cell_type": "code",
   "execution_count": 12,
   "id": "e183672c",
   "metadata": {},
   "outputs": [],
   "source": [
    "relationship_config = dr.RelationshipsConfiguration.create(\n",
    "    dataset_definitions=[secondary_dataset_definition], \n",
    "    relationships=[datasets_relationship])"
   ]
  },
  {
   "cell_type": "markdown",
   "id": "4a17c811",
   "metadata": {},
   "source": [
    "## Create features and perform supervised Feature Reduction\n",
    "\n",
    "_Default is True, setting here as an example of how to set SFR using the API_\n",
    "\n",
    "https://app.datarobot.com/docs/data/transform-data/feature-discovery/fd-gen.html#feature-reduction"
   ]
  },
  {
   "cell_type": "code",
   "execution_count": 13,
   "id": "d2e3aeb5",
   "metadata": {},
   "outputs": [],
   "source": [
    "advanced_options = dr.AdvancedOptions(\n",
    "    feature_discovery_supervised_feature_reduction=True)"
   ]
  },
  {
   "cell_type": "markdown",
   "id": "5be3c441",
   "metadata": {},
   "source": [
    "This process is started off by setting the target"
   ]
  },
  {
   "cell_type": "code",
   "execution_count": null,
   "id": "42326827",
   "metadata": {},
   "outputs": [],
   "source": [
    "project.set_target(\n",
    "    target='qc_fail', \n",
    "    relationships_configuration_id=relationship_config.id,\n",
    "    feature_engineering_prediction_point='timestamp', # the prediction point is defined here\n",
    "    advanced_options=advanced_options,\n",
    "    mode=dr.AUTOPILOT_MODE.MANUAL)"
   ]
  },
  {
   "cell_type": "markdown",
   "id": "f541454a",
   "metadata": {},
   "source": [
    "These are the steps followed:\n",
    "- Setting target feature\n",
    "- Loading Secondary Datasets\n",
    "- Discovering Features\n",
    "- Selecting Features\n",
    "- Generating Features\n",
    "- Exploratory Data Analysis for New Features\n",
    "- Creating CV and Holdout partitions(100%)\n",
    "- Characterizing target variable\n",
    "- Loading dataset and preparing data\n",
    "- Saving target and partitioning information\n",
    "- Analyzing features\n",
    "- Generating blueprints"
   ]
  },
  {
   "cell_type": "markdown",
   "id": "a4fbef5a",
   "metadata": {},
   "source": [
    "## Save project"
   ]
  },
  {
   "cell_type": "code",
   "execution_count": 15,
   "id": "7e256cfd",
   "metadata": {},
   "outputs": [],
   "source": [
    "filename = 'project.pickle'\n",
    "outfile = open(filename,'wb')\n",
    "pickle.dump(project,outfile)\n",
    "outfile.close()"
   ]
  },
  {
   "cell_type": "markdown",
   "id": "143b45da",
   "metadata": {},
   "source": [
    "## Notes"
   ]
  },
  {
   "cell_type": "markdown",
   "id": "97adef66",
   "metadata": {},
   "source": [
    "You can also load or clone from an existing project"
   ]
  },
  {
   "cell_type": "code",
   "execution_count": 19,
   "id": "583f2241",
   "metadata": {},
   "outputs": [],
   "source": [
    "projectAUTO = project.clone_project(new_project_name='Fault prediction from sensor data Orsted AUTO')"
   ]
  },
  {
   "cell_type": "code",
   "execution_count": null,
   "id": "7a8ae489",
   "metadata": {},
   "outputs": [],
   "source": [
    "projectAUTO.set_target(\n",
    "    target='qc_fail', \n",
    "    relationships_configuration_id=relationship_config.id,\n",
    "    feature_engineering_prediction_point='timestamp', # the prediction point is defined here\n",
    "    advanced_options=advanced_options,\n",
    "    mode=dr.AUTOPILOT_MODE.FULL_AUTO)"
   ]
  },
  {
   "cell_type": "code",
   "execution_count": 21,
   "id": "9a00a425",
   "metadata": {},
   "outputs": [
    {
     "data": {
      "text/plain": [
       "Project(Fault prediction from sensor data Orsted AUTO)"
      ]
     },
     "execution_count": 21,
     "metadata": {},
     "output_type": "execute_result"
    }
   ],
   "source": [
    "projectAUTO.set_worker_count(20)"
   ]
  },
  {
   "cell_type": "code",
   "execution_count": 22,
   "id": "36055454",
   "metadata": {},
   "outputs": [
    {
     "name": "stdout",
     "output_type": "stream",
     "text": [
      "In progress: 2, queued: 81 (waited: 0s)\n",
      "In progress: 20, queued: 63 (waited: 2s)\n",
      "In progress: 20, queued: 63 (waited: 3s)\n",
      "In progress: 20, queued: 63 (waited: 5s)\n",
      "In progress: 20, queued: 63 (waited: 8s)\n",
      "In progress: 20, queued: 63 (waited: 11s)\n",
      "In progress: 20, queued: 63 (waited: 16s)\n",
      "In progress: 20, queued: 63 (waited: 24s)\n",
      "In progress: 18, queued: 57 (waited: 38s)\n",
      "In progress: 19, queued: 51 (waited: 59s)\n",
      "In progress: 19, queued: 41 (waited: 81s)\n",
      "In progress: 20, queued: 35 (waited: 102s)\n",
      "In progress: 20, queued: 23 (waited: 124s)\n",
      "In progress: 17, queued: 17 (waited: 145s)\n",
      "In progress: 19, queued: 9 (waited: 166s)\n",
      "In progress: 15, queued: 0 (waited: 187s)\n",
      "In progress: 13, queued: 0 (waited: 208s)\n",
      "In progress: 13, queued: 0 (waited: 229s)\n",
      "In progress: 13, queued: 0 (waited: 250s)\n",
      "In progress: 12, queued: 0 (waited: 271s)\n",
      "In progress: 11, queued: 0 (waited: 292s)\n",
      "In progress: 7, queued: 0 (waited: 313s)\n",
      "In progress: 2, queued: 0 (waited: 333s)\n",
      "In progress: 2, queued: 0 (waited: 354s)\n",
      "In progress: 2, queued: 0 (waited: 376s)\n",
      "In progress: 2, queued: 0 (waited: 397s)\n",
      "In progress: 1, queued: 0 (waited: 418s)\n",
      "In progress: 1, queued: 0 (waited: 438s)\n",
      "In progress: 0, queued: 0 (waited: 459s)\n",
      "In progress: 20, queued: 12 (waited: 480s)\n",
      "In progress: 20, queued: 12 (waited: 501s)\n",
      "In progress: 20, queued: 10 (waited: 522s)\n",
      "In progress: 20, queued: 9 (waited: 543s)\n",
      "In progress: 20, queued: 9 (waited: 564s)\n",
      "In progress: 20, queued: 9 (waited: 585s)\n",
      "In progress: 20, queued: 8 (waited: 606s)\n",
      "In progress: 17, queued: 1 (waited: 628s)\n",
      "In progress: 13, queued: 0 (waited: 649s)\n",
      "In progress: 13, queued: 0 (waited: 670s)\n",
      "In progress: 13, queued: 0 (waited: 691s)\n",
      "In progress: 13, queued: 0 (waited: 712s)\n",
      "In progress: 13, queued: 0 (waited: 732s)\n",
      "In progress: 13, queued: 0 (waited: 753s)\n",
      "In progress: 13, queued: 0 (waited: 774s)\n",
      "In progress: 13, queued: 0 (waited: 795s)\n",
      "In progress: 13, queued: 0 (waited: 816s)\n",
      "In progress: 11, queued: 0 (waited: 837s)\n",
      "In progress: 7, queued: 0 (waited: 858s)\n",
      "In progress: 4, queued: 0 (waited: 879s)\n",
      "In progress: 3, queued: 0 (waited: 899s)\n",
      "In progress: 2, queued: 0 (waited: 920s)\n",
      "In progress: 2, queued: 0 (waited: 941s)\n",
      "In progress: 2, queued: 0 (waited: 961s)\n",
      "In progress: 2, queued: 0 (waited: 982s)\n",
      "In progress: 2, queued: 0 (waited: 1003s)\n",
      "In progress: 2, queued: 0 (waited: 1024s)\n",
      "In progress: 2, queued: 0 (waited: 1045s)\n",
      "In progress: 2, queued: 0 (waited: 1065s)\n",
      "In progress: 2, queued: 0 (waited: 1086s)\n",
      "In progress: 1, queued: 0 (waited: 1107s)\n",
      "In progress: 1, queued: 0 (waited: 1128s)\n",
      "In progress: 1, queued: 0 (waited: 1149s)\n",
      "In progress: 0, queued: 0 (waited: 1169s)\n",
      "In progress: 0, queued: 0 (waited: 1190s)\n",
      "In progress: 0, queued: 0 (waited: 1211s)\n",
      "In progress: 0, queued: 0 (waited: 1232s)\n",
      "In progress: 0, queued: 0 (waited: 1253s)\n",
      "In progress: 0, queued: 0 (waited: 1274s)\n",
      "In progress: 0, queued: 0 (waited: 1295s)\n",
      "In progress: 0, queued: 0 (waited: 1316s)\n",
      "In progress: 0, queued: 0 (waited: 1337s)\n",
      "In progress: 0, queued: 0 (waited: 1358s)\n",
      "In progress: 0, queued: 0 (waited: 1378s)\n",
      "In progress: 5, queued: 0 (waited: 1399s)\n",
      "In progress: 5, queued: 0 (waited: 1420s)\n",
      "In progress: 5, queued: 0 (waited: 1441s)\n",
      "In progress: 1, queued: 0 (waited: 1462s)\n",
      "In progress: 1, queued: 0 (waited: 1482s)\n",
      "In progress: 0, queued: 1 (waited: 1503s)\n",
      "In progress: 1, queued: 1 (waited: 1524s)\n",
      "In progress: 1, queued: 0 (waited: 1545s)\n",
      "In progress: 1, queued: 0 (waited: 1566s)\n",
      "In progress: 1, queued: 0 (waited: 1587s)\n",
      "In progress: 1, queued: 0 (waited: 1608s)\n",
      "In progress: 0, queued: 0 (waited: 1629s)\n",
      "In progress: 1, queued: 1 (waited: 1650s)\n",
      "In progress: 0, queued: 1 (waited: 1671s)\n",
      "In progress: 1, queued: 0 (waited: 1692s)\n",
      "In progress: 1, queued: 0 (waited: 1712s)\n",
      "In progress: 0, queued: 0 (waited: 1733s)\n",
      "In progress: 4, queued: 0 (waited: 1754s)\n",
      "In progress: 4, queued: 0 (waited: 1774s)\n",
      "In progress: 4, queued: 0 (waited: 1795s)\n",
      "In progress: 4, queued: 0 (waited: 1816s)\n",
      "In progress: 4, queued: 0 (waited: 1837s)\n",
      "In progress: 4, queued: 0 (waited: 1858s)\n",
      "In progress: 4, queued: 0 (waited: 1879s)\n",
      "In progress: 4, queued: 0 (waited: 1899s)\n",
      "In progress: 4, queued: 0 (waited: 1920s)\n",
      "In progress: 4, queued: 0 (waited: 1941s)\n",
      "In progress: 4, queued: 0 (waited: 1962s)\n",
      "In progress: 4, queued: 0 (waited: 1983s)\n",
      "In progress: 3, queued: 0 (waited: 2004s)\n",
      "In progress: 2, queued: 0 (waited: 2024s)\n",
      "In progress: 1, queued: 0 (waited: 2045s)\n",
      "In progress: 1, queued: 0 (waited: 2066s)\n",
      "In progress: 1, queued: 0 (waited: 2087s)\n",
      "In progress: 1, queued: 0 (waited: 2108s)\n",
      "In progress: 1, queued: 0 (waited: 2128s)\n",
      "In progress: 1, queued: 0 (waited: 2149s)\n",
      "In progress: 1, queued: 0 (waited: 2179s)\n",
      "In progress: 1, queued: 0 (waited: 2200s)\n",
      "In progress: 1, queued: 0 (waited: 2220s)\n",
      "In progress: 1, queued: 0 (waited: 2241s)\n",
      "In progress: 1, queued: 0 (waited: 2262s)\n",
      "In progress: 1, queued: 0 (waited: 2283s)\n",
      "In progress: 1, queued: 0 (waited: 2304s)\n",
      "In progress: 1, queued: 0 (waited: 2324s)\n",
      "In progress: 1, queued: 0 (waited: 2346s)\n",
      "In progress: 1, queued: 0 (waited: 2366s)\n",
      "In progress: 1, queued: 0 (waited: 2387s)\n",
      "In progress: 1, queued: 0 (waited: 2408s)\n",
      "In progress: 1, queued: 0 (waited: 2428s)\n",
      "In progress: 1, queued: 0 (waited: 2449s)\n",
      "In progress: 1, queued: 0 (waited: 2470s)\n",
      "In progress: 1, queued: 0 (waited: 2491s)\n",
      "In progress: 0, queued: 0 (waited: 2511s)\n",
      "In progress: 0, queued: 0 (waited: 2532s)\n",
      "In progress: 0, queued: 0 (waited: 2553s)\n",
      "In progress: 0, queued: 0 (waited: 2574s)\n",
      "In progress: 0, queued: 0 (waited: 2594s)\n",
      "In progress: 0, queued: 0 (waited: 2615s)\n"
     ]
    }
   ],
   "source": [
    "projectAUTO.wait_for_autopilot()"
   ]
  },
  {
   "cell_type": "code",
   "execution_count": 23,
   "id": "90312f45",
   "metadata": {},
   "outputs": [
    {
     "data": {
      "text/plain": [
       "Project(Fault prediction from sensor data Orsted AUTO)"
      ]
     },
     "execution_count": 23,
     "metadata": {},
     "output_type": "execute_result"
    }
   ],
   "source": [
    "projectAUTO.unlock_holdout()"
   ]
  },
  {
   "cell_type": "code",
   "execution_count": 24,
   "id": "c3ff10fa",
   "metadata": {},
   "outputs": [],
   "source": [
    "filename = 'projectAUTO.pickle'\n",
    "outfile = open(filename,'wb')\n",
    "pickle.dump(projectAUTO,outfile)\n",
    "outfile.close()"
   ]
  }
 ],
 "metadata": {
  "kernelspec": {
   "display_name": "Python 3 (ipykernel)",
   "language": "python",
   "name": "python3"
  },
  "language_info": {
   "codemirror_mode": {
    "name": "ipython",
    "version": 3
   },
   "file_extension": ".py",
   "mimetype": "text/x-python",
   "name": "python",
   "nbconvert_exporter": "python",
   "pygments_lexer": "ipython3",
   "version": "3.8.9"
  }
 },
 "nbformat": 4,
 "nbformat_minor": 5
}